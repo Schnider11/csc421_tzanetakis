{
 "cells": [
  {
   "cell_type": "markdown",
   "metadata": {
    "slideshow": {
     "slide_type": "slide"
    }
   },
   "source": [
    "# CSC 421 - Introduction and Overview \n",
    "\n",
    "### Instructor: George Tzanetakis \n"
   ]
  },
  {
   "cell_type": "markdown",
   "metadata": {},
   "source": [
    "**Self-introduction and territorial acknowledgement**"
   ]
  },
  {
   "cell_type": "markdown",
   "metadata": {},
   "source": [
    "## Introduction \n",
    "\n",
    "The topic of this course is artificial intelligence (AI), probably the most hyped topic in Computer Science today. Whether all the hype (both positive and negative) is justified or not is a question we will repeatedly return to throughout the course. I believe that it is very likely the set of concepts and ideas that are somewhat problematically labeled AI will transform our lives in a similar way \n",
    "as the development of the internet and smart mobile devices already has done. \n",
    "\n",
    "**MAIN EMPHASIS**: Agents as a unifying concept of thinking about AI and software \n",
    "\n",
    "**ADDITIONAL PERSONAL EMPHASIS POINTS**: \n",
    "\n",
    "1. Probability as the main way of connecting AI with all other areas of interest \n",
    "2. Separating notation from underlying concepts\n",
    "3. Ethical considerations\n",
    "4. History\n",
    "\n",
    "\n",
    "During this first introductory lecture we will cover the following topics: \n",
    "\n",
    "1. Overview of the course \n",
    "2. Discussion of academic integrity and the challenges of assessment and feedback \n",
    "3. The importance of the course textbook and slow reading \n",
    "4. What is AI ? History of AI \n",
    "   1. AI before computers \n",
    "   2. AI after computers\n",
    "5. Intelligent agents \n",
    "6. Degree of Difficulty \n",
    "7. Probabilities \n"
   ]
  },
  {
   "cell_type": "markdown",
   "metadata": {},
   "source": [
    "## IS THIS COURSE FOR YOU ? ##\n",
    "\n",
    "A few warnings: \n",
    "\n",
    "1. AI applications can be very exciting - however this course is mostly about the fundemental concepts and vocabulary needed to understand modern AI techniques and therefore it will require some tedious and hard work to reach the \"exciting\" level\n",
    "2. This is an elective - do not take it unless you are interested in the topic and are willing to put time and effort into learning it\n",
    "3. This is a course that requires both theoretical/mathematical understanding as well as programming skills\n",
    "\n",
    "Attendance is not mandatory and I am not going to keep track of who comes to the lectures."
   ]
  },
  {
   "cell_type": "markdown",
   "metadata": {},
   "source": [
    "## WORKPLAN \n",
    "\n",
    "The section numbers are based on the 4th edition of the AIMA textbook and is the suggested\n",
    "reading for each week. Each list entry provides just the additional sections. For example the Expected reading include the sections listed under Basic as well as the sections listed under Expected. Some additional readings are suggested for the Advanced degree of difficulty. \n",
    "\n",
    "1. Basic: Sections **1.1**, **1.4** and Summary  \n",
    "2. Expected: **1.1**, **1.2**, **1.5** \n",
    "3. Advanced: **1.3**, Bibliographical and Historical notes \n",
    "    1. Read the classic paper by Turing on “Computing Machinery and Intelligence”\n",
    "    2. Read the classic paper by McCarthy on “Programs with Common Sense”"
   ]
  },
  {
   "cell_type": "markdown",
   "metadata": {},
   "source": [
    "## Overview of the course \n",
    "\n",
    "**Artificial Intelligence: A Modern Approach** has been by far the most well known and widely used textbook on AI across the world for the last 20 years. It is taught in practically every computer science department in the world. The textbook is designed \n",
    "to be covered in a two semester system. Each chapter corresponds to one week of lectures. \n",
    "\n",
    "\n",
    "\n",
    "Some questions to think about: \n",
    "\n",
    "1. What are some applications of AI that you have encountered/heard about? \n",
    "2. How close are we to achieving artificial intelligence and how could we tell if we did ? \n",
    "3. What is AI? \n",
    "\n",
    "\"Artificial Intelligence (AI) is the science of how to get machines to do the things they do in movies” - Dr. Astro Teller\n",
    "\n",
    "http://en.wikipedia.org/wiki/Astro_Teller\n",
    "\n",
    "Currently heading Google X\n",
    "\n",
    "\n",
    "Some things to read about: \n",
    "\n",
    "1. Alan Turing \n",
    "2. The turing test\n",
    "3. Turing Awards in AI \n",
    "\n",
    "\n",
    "What we will cover: \n",
    "\n",
    "1. Artificial Intelligence \n",
    "    * Introduction (Chapter 1) \n",
    "    * Agents (Chapter 2) \n",
    "2. Problem-solving \n",
    "    * Solving Problems by Searching (Chapter 3)  \n",
    "    * Adverserial Search and Games (Chapter 5) \n",
    "    * Constraint Satisfaction Problems (Chapter 6) \n",
    "3. Knowledge, reasoning, and planning \n",
    "    * Logical-Agents (Chapter 7) \n",
    "    * First-Order Logic (Chapter 8) \n",
    "4. Uncertain knowledge and reasoning \n",
    "    * Quantifying uncertainty (Chapter 12) \n",
    "    * Probabilistic reasoning (Chapter 13) \n",
    "    * Probabilistic reasoning over time (Chapter 14) \n",
    "5. Machine Learning \n",
    "    * Learning from Examples (Chapter 19) \n",
    "    * Learning Probabilistic Models (Chapter 20) \n",
    "    * Deep Learning (Chapter 21) \n",
    "    \n",
    "Likely order of coverage: \n",
    "\n",
    "* Introduction (Chapter 1) \n",
    "* Agents (Chapter 2) \n",
    "* Solving Problems by Searching (Chapter 3) \n",
    "* Constraint Satisfaction Problems (Chapter 6) \n",
    "* Logical-Agents (Chapter 7) \n",
    "* Quantifying uncertainty (Chapter 12) \n",
    "* Adverserial Search and Games (Chapter 5) \n",
    "* First-Order Logic (Chapter 8) \n",
    "* Probabilistic reasoning (Chapter 13) \n",
    "* Learning from Examples (Chapter 19) \n",
    "* Probabilistic reasoning over time (Chapter 14) \n",
    "* Learning Probabilistic Models (Chapter 20) \n",
    "* Deep Learning (Chapter 21) \n"
   ]
  },
  {
   "cell_type": "markdown",
   "metadata": {},
   "source": [
    "## Assessment \n",
    "\n",
    "There will be four assignemnts each worth 10% of the total grade. \n",
    "There will be a in-class midterm that is worth 20% of the total grade \n",
    "and one final exam scheduled by the University that is worth 40% of the total grade.\n",
    "\n",
    "<img src=\"images/uvic_grade_table.png\" width=\"70%\"/>\n",
    "<img src=\"images/swim_grades.png\" width=\"50%\"/>"
   ]
  },
  {
   "cell_type": "markdown",
   "metadata": {},
   "source": [
    "Suppose you are asked to assess using a simple scale (bad, average, good) 6th graders in terms of basketball ability. You need to evaluate 150 students. A simple way would be to have them shoot 10 free throws \n",
    "and count how many they make. For example (0-3: bad, 4:6 average, 7-10 good). This would \n",
    "a reasonable choice in this case. \n"
   ]
  },
  {
   "cell_type": "markdown",
   "metadata": {},
   "source": [
    "Tom Amberry made 2,750 straight free throws in 12 hours back in 1993 - (World Guiness Record) \n",
    "\n",
    "<img src=\"images/tom-amberry.jpg\" width=\"25%\"/>\n",
    "\n",
    "\n",
    "Shaquille O'Neal had a career 52.7% free throw percentage. A common strategy \n",
    "to contain his scoring was called \"hack a shaq\" and consisted of players intentionally fouling him and taking advantage of his poor free throw shooting percentage. \n",
    "\n",
    "<img src=\"images/shaq_free_throw.jpeg\" width=\"25%\"/>\n",
    "\n",
    "\n",
    "\n",
    "\n",
    "The ability to assess someone depends on the amount of time and effort required and the complexity of the task you are measuring. \n",
    "\n",
    "1. **ASSESSMENT IS NOT EASY.**\n",
    "\n",
    "2. **GRADING USING EXAMS/ASSIGNMENTS IS A CRUDE WAY OF ASSESSING YOUR KNOWEDGE BUT NECESSARY GIVEN THE SCALE AND TIME CONSTRAINTS**\n",
    "\n",
    "3. **COMPANIES CAN AND WILL DO MUCH MORE DETAILED ASSESSMENTS**"
   ]
  },
  {
   "cell_type": "markdown",
   "metadata": {},
   "source": [
    "## Feedback \n",
    "\n",
    "Feedback and assessment are related but they are not the same. Continuing the basketball analogy suppose that a coach observe a high school basketball player. Assesment would be judging whether they are good enough to make the varsity team whereas feedback would be giving them hints about areas of improvement such as weak defense when guarding taller players or difficulty dribbling with the non-dominant hand. "
   ]
  },
  {
   "cell_type": "markdown",
   "metadata": {},
   "source": [
    "## Degree of Difficulty \n",
    "\n",
    "The different deliverables in the assignments, questions in the midterm and final, and material to read in the textbook will be explicitly marked using three degrees of difficulty: \n",
    "\n",
    "1. Basic - the bare minimum required to pass the course. If you are not able to complete the corresponding assignment parts or questions then you should probably drop/retake the course. (C and below grades) \n",
    "2. Expected - corresponds to a good understanding of the concepts covered in the course (B grades, A-) \n",
    "3. Advanced - excellent and deep understanding of the underlying concepts, curiosity to go beyond what is covered in the course, deep interest in the topic (A, A+ grades, honours students, prospective graduate students, graduate students) \n",
    "\n",
    "\n",
    "PEDMAS example \n",
    "\n",
    "Basic question with easy automatic assesment: \n",
    "\n",
    "What is the correct answer for 3 + 5 * 2 ? \n",
    "\n",
    "- **A** 16\n",
    "- **B** 13 \n",
    "\n",
    "Discuss with students what could be expected and advanced questions exploring the same concept and how these questions would require much more sophisticated automatic assessment. "
   ]
  },
  {
   "cell_type": "markdown",
   "metadata": {},
   "source": [
    "## Think/Acting  Humanly/Rationally \n",
    "\n",
    "\n",
    "1. **Think like humans**\n",
    "\n",
    "   This approach to AI aims to better understand how humans think/accomplish various tasks. It is informed by Cognitive science which explores how humans perform various tasks. As an example of this approach we might be interested in developing computer models of how humans play chess or some other board game. The goals of these models is to better understand what strategies humans use to make decisions in this context including thier limitations rather than developing the \"best\" computer chess playing program that could use a completely different approach to playing.   \n",
    "<br>   \n",
    "   \n",
    "2. **Think rationally**\n",
    "\n",
    "   Aristotle established logic as a way to formalize thinking. Logic deals with relationships and abstracts the process of reasoning so that it is independent of the specific categories used. For example one can have the following thinking \"patterns\":\n",
    "\n",
    "   * All dogs are animals. Robin is a dog. Therefore robin is an animal.\n",
    "   * Every student has a computer. Each computer has a mouse. Therefore, every students has a mouse.\n",
    "   \n",
    "    Such patterns can be used to derive information that we don't know from facts that we know. For example if one knows that the parents of Bart are Homer and Marge, one can infer that Marge has a child named Bart. \n",
    "<br>\n",
    "\n",
    "   \n",
    "3. **Act like humans**\n",
    "\n",
    "    The first proposal for evaluating success in AI was building a program that acts humanly named after Allan Turing. To be considered intelligent a program must be able to act sufficiently like a human to fool an interrogator. A human interrogates the program and another human via a terminal simultaneously. If after a reasonable period, the interrogator cannot tell which is which, the program passes. Passing the Turing test requires natural language procesing, knowledge representation, automated reasoning, and machine learning all of which have been active areas of research since the dawn of AI in the 1950s. One could also add computer visiion and audition as well as robotics as additional challenges while keeping the successful immitation aspects of the test the same. \n",
    "\n",
    "<br> \n",
    "\n",
    "4. **Act rationally** \n",
    "\n",
    "An **agent** is something that acts i.e does things. Agents operate autonomously, perceive their environment, are able to affect it, can change, \n",
    "and create and pursue goals. A **rational** agent is an agent that tries to achieve the best outcome or the best expected outcome when there is uncertainty. \n",
    "\n",
    "\n"
   ]
  },
  {
   "cell_type": "markdown",
   "metadata": {},
   "source": [
    "## Related Fields/Foundations \n",
    "\n",
    "* Philosophy (rationalism, dualism, empiricism, induction) \n",
    "* Mathematics (logic, computation, probability) \n",
    "* Economics (utility, decision theory, game theory, operations research) \n",
    "* Neuroscience (neurons, EEG, fMRI, singularity) \n",
    "* Psychology (behaviorism, cognitive psychology) \n",
    "* Computer Engineering \n",
    "* Control theory and cybernetics (objective function) \n",
    "* Linguistics\n"
   ]
  },
  {
   "cell_type": "markdown",
   "metadata": {},
   "source": [
    "## Probabilities \n",
    "\n",
    "Probabilities are fundametal in communicating with each other and other disciplines as they provide a principled way to deal with uncertainty. \n",
    "\n",
    "Let's look at some simple visualizations that can help us get some intuition about \n",
    "probabilities and statistics by looking at some specific examples. We will use a grid \n",
    "visualization to help us better undertstand the numbers. It is a simple way of visualizing a probability using a grid of colored cells. "
   ]
  },
  {
   "cell_type": "code",
   "execution_count": null,
   "metadata": {},
   "outputs": [],
   "source": [
    "\n",
    "from bokeh.io import show, output_notebook\n",
    "from bokeh.plotting import figure\n",
    "import numpy as np\n",
    "\n",
    "# plot a xmax by ymax grid of rectangles and use it do visualize \n",
    "# probabilities \n",
    "\n",
    "def plot_prob_grid(xmax, ymax, prob, title): \n",
    "    X = np.arange(0.5, xmax, 1)\n",
    "    Y = np.arange(0.5, ymax, 1)\n",
    "    num_grid_points = xmax * ymax \n",
    "    C = ['blue']*num_grid_points \n",
    "    grid = np.meshgrid(X, Y)\n",
    "    positions = np.vstack(list(map(np.ravel, grid)))\n",
    "    X = positions[0]\n",
    "    Y = positions[1]\n",
    "    prob_grid_points = int(prob * num_grid_points)\n",
    "    C[0:prob_grid_points] = ['orange']*prob_grid_points\n",
    "    z = figure(title=title, \n",
    "           toolbar_location='above', x_range=[0,xmax], \n",
    "           y_range=[0,ymax], toolbar_sticky=False, x_axis_location=\"below\", width=600, height=600)\n",
    "\n",
    "    z.rect(X, Y, width=1, height=1,fill_color=C, \n",
    "           line_color=\"white\")\n",
    "    \n",
    "    return z"
   ]
  },
  {
   "cell_type": "code",
   "execution_count": null,
   "metadata": {},
   "outputs": [],
   "source": [
    "# let's try visualizing a probability of 0.25 using a grid of 100x100 as well as a grid of 20x20\n",
    "output_notebook()\n",
    "z = plot_prob_grid(100,100,0.25, \"Prob = 0.25\")\n",
    "show(z)\n",
    "\n",
    "\n",
    "z = plot_prob_grid(20,20,0.25,\"Prob 0.25\")\n",
    "show(z)"
   ]
  },
  {
   "cell_type": "code",
   "execution_count": null,
   "metadata": {},
   "outputs": [],
   "source": [
    "# Now let's use the same visualization to examine some probabilities \n",
    "# derived from actual data related to the Covid pandemic in BC \n",
    "\n",
    "covid_deaths_bc = 2000 \n",
    "bc_population = 5000000\n",
    "covid_recovered_bc = 164000\n",
    "covid_death_perc_bc = covid_deaths_bc / bc_population\n",
    "print(covid_death_perc_bc)\n",
    "z = plot_prob_grid(100,100,covid_death_perc_bc, 'Covid Deaths BC')\n",
    "show(z)"
   ]
  },
  {
   "cell_type": "markdown",
   "metadata": {},
   "source": [
    "### Smallpox epidemic 1862 BC \n",
    "\n",
    "\n",
    "Smallpox was a terrible infectious disease that ravaged through British Columbia around 1862. \n",
    "Estimates of death rate among indigenous populations range between 60% and 90%. \n",
    "The death rate among settlers was significantly lower due to acquired immunity and \n",
    "primitive forms of vaccination. Smallpox is the only infectious disease that has been completely eliminated thanks to vaccinations. \n",
    "\n",
    "Let's look at how does a 60% and 90% mortality look like using the grid visualizations. \n"
   ]
  },
  {
   "cell_type": "code",
   "execution_count": null,
   "metadata": {},
   "outputs": [],
   "source": [
    "[smallpox_perc1, smallpox_perc2] = [0.6,0.9]\n",
    "z = plot_prob_grid(100,100,smallpox_perc1, 'Smallpox deaths low estimate')\n",
    "show(z)\n",
    "\n",
    "z = plot_prob_grid(100,100,smallpox_perc2, 'Smallpox deaths high estimate')\n",
    "show(z)"
   ]
  },
  {
   "cell_type": "code",
   "execution_count": null,
   "metadata": {},
   "outputs": [],
   "source": [
    "z = plot_prob_grid(10,10,smallpox_perc1,'Small pox deaths low estimate')\n",
    "show(z)\n",
    "\n",
    "z = plot_prob_grid(10,10,smallpox_perc2,'Small pox deaths high estimate')\n",
    "show(z)"
   ]
  },
  {
   "cell_type": "markdown",
   "metadata": {},
   "source": [
    "Let's look at another example in this case exploring conditional probabilities. \n",
    "Suppose that in a particular health region 90% of the population is vaccinated against a disease \n",
    "and 10% of the population is not. Formally P(vaccinated=True) = 0.9 and P(vaccinated=False) = 0.1. \n",
    "In the grid below the blue squares correspond to the unvaccinated and the yellow to the vaccinated. \n"
   ]
  },
  {
   "cell_type": "code",
   "execution_count": null,
   "metadata": {},
   "outputs": [],
   "source": [
    "z = plot_prob_grid(100,100,0.9, 'Unvaccinated/vaccinated')\n",
    "show(z)"
   ]
  },
  {
   "cell_type": "markdown",
   "metadata": {},
   "source": [
    "Now let's assume that the probability of getting infected when not vaccinated is 1 in 10 or P(infection = True | vaccination = False) = 0.1 and the probability of getting infected when vaccinated is 1 in 90 or P(infection = True | vaccination = True) = 0.01111. So it is approximately 10 times more likely to get infected if you are not vaccinated. \n",
    "\n",
    "If we consider a population of 10000 then based on these numbers there will be 9000 vaccinated people and 1000 uncaccinated. Out of the vaccinated people 100 (1 in 90) will be infected and out of the 1000 unvaccinated people \n",
    "100 will be infected (1 in 10). So if one would examine just the number of people infected without taking into account the percentages of vaccinated/unvaccinated it could lead to the erroneous conclusion that vaccines have no effect. Let's look at the corresponding grid visualizations. \n",
    "\n"
   ]
  },
  {
   "cell_type": "code",
   "execution_count": null,
   "metadata": {},
   "outputs": [],
   "source": [
    "z = plot_prob_grid(10,10,0.01111, 'infected/vaccinated')\n",
    "show(z)\n",
    "z = plot_prob_grid(10,10,0.1, 'infected/unvaccinated')\n",
    "show(z)"
   ]
  },
  {
   "cell_type": "markdown",
   "metadata": {},
   "source": [
    "Later during the course, we will see how problems like this can be elegantly formulated using the notation of \n",
    "conditional probabilities. \n"
   ]
  },
  {
   "cell_type": "code",
   "execution_count": null,
   "metadata": {},
   "outputs": [],
   "source": []
  }
 ],
 "metadata": {
  "kernelspec": {
   "display_name": "Python 3 (ipykernel)",
   "language": "python",
   "name": "python3"
  },
  "language_info": {
   "codemirror_mode": {
    "name": "ipython",
    "version": 3
   },
   "file_extension": ".py",
   "mimetype": "text/x-python",
   "name": "python",
   "nbconvert_exporter": "python",
   "pygments_lexer": "ipython3",
   "version": "3.11.4"
  }
 },
 "nbformat": 4,
 "nbformat_minor": 4
}
