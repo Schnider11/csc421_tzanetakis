{
 "cells": [
  {
   "cell_type": "markdown",
   "metadata": {},
   "source": [
    "# CSC 421 - Constraint Satisfaction Problems\n",
    "\n",
    "### Instructor: George Tzanetakis \n"
   ]
  },
  {
   "cell_type": "markdown",
   "metadata": {},
   "source": [
    "\n",
    "Problems can be solved by searching the state space. The state space is a representation of a problem where the nodes are states and the edges between them are actions. Domain-specific heuristics can be used to estimate the cost of reaching the goakl from a given state to make searching for solutions more efficient. The state representation is treated as a black box. \n",
    "\n",
    "**Constraint Satisfaction Problems** are a specific type of problem in which the state representation is **factored**. The state in such problems can be represented as a set of **variables** each of which has a **value** from a particular **domain**. A problem is solved when each varaible has a value that satisfies \n",
    "all the constrains that involve that variable. "
   ]
  },
  {
   "cell_type": "markdown",
   "metadata": {},
   "source": [
    "\n",
    "Defining a CSP problem: \n",
    "\n",
    "* X is a set of variables {X1, X2, .. XN} \n",
    "* D is a set of domains {D1, ...., Dn} (one for each variable) \n",
    "* C is a set of constraints that specify allowable combinations of values \n",
    "\n",
    "Any contraint can be represented as an explicit set of tuples of values that satisfy the constraint or as a membership function (typically syntactic sugar). \n",
    "\n",
    "For example X1 and X2 with domain {1,2,3}. \n",
    "\n",
    "X1>X2 can be written as {(3,1),(3,2),(2,1)}\n",
    "\n",
    "\n"
   ]
  },
  {
   "cell_type": "markdown",
   "metadata": {},
   "source": [
    "A **consistent** assignment is an assignment of values to variables that does not violate any constraints. \n",
    "A **complete** assignment is an assignment of values to all variables. A **complete** and **consistent** assignment is called a **solution** to the CSP problem. A **partial** assignment is one that leaves some variables unassigned, and a **partial solution** is a partial assignment that is consistent. \n",
    "\n",
    "Solving a **CSP** problem is an NP-complete problem in general. "
   ]
  },
  {
   "cell_type": "markdown",
   "metadata": {},
   "source": [
    "## Classic example - map coloring "
   ]
  },
  {
   "cell_type": "code",
   "execution_count": null,
   "metadata": {},
   "outputs": [],
   "source": []
  }
 ],
 "metadata": {
  "kernelspec": {
   "display_name": "Python 3",
   "language": "python",
   "name": "python3"
  },
  "language_info": {
   "codemirror_mode": {
    "name": "ipython",
    "version": 3
   },
   "file_extension": ".py",
   "mimetype": "text/x-python",
   "name": "python",
   "nbconvert_exporter": "python",
   "pygments_lexer": "ipython3",
   "version": "3.7.1"
  }
 },
 "nbformat": 4,
 "nbformat_minor": 2
}
