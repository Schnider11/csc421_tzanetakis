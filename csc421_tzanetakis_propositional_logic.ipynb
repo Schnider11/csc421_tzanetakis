{
 "cells": [
  {
   "cell_type": "markdown",
   "metadata": {},
   "source": [
    "# CSC 421 - Propositional and First-Order Logic \n",
    "\n",
    "### Instructor: George Tzanetakis \n"
   ]
  },
  {
   "cell_type": "markdown",
   "metadata": {},
   "source": [
    "Knowledge-based agents use a process of **reasoning** over an internal **representation** of knowledge to decide what actions to take. \n",
    "\n",
    "The key insight is that by using a factored representation (like we did in CSP problems) some parts of the agent can work in a domain-independent fashion. That way information can be combined in different ways, the agents can adapt to new environments and explicitly describe goals. \n",
    "\n",
    "We begin by exploring **propositional logic** which is a less expressive subset of **first-ordeer logic**. \n",
    "\n",
    "\n",
    "\n",
    "**KNOWLEDGE BASE** is a set of sentences in some kind of **knowledge representation language**. **Axioms** are sentences that are given. \n",
    "\n",
    "**TELL**: adds sentences to the KB \n",
    "**ASK**: a question of the knowledge bsae \n",
    "**inference**: derives new sentences from old sentences - can be used in either **TELL** or **ASK**\n",
    "\n",
    "\n",
    "\n",
    "A **declarative** approach to system building only **TELLS** what the system needs to know and the system figures out **how** to accomplish a particular task. In constrast a **procedural** approach encodes the desired behaviors directly as program code. In the 1970s and 1980s, advocates of these two approaches engaged in heated debates. Most successful agents often combine both declarative and procedural elements in their design. "
   ]
  },
  {
   "cell_type": "markdown",
   "metadata": {},
   "source": [
    "\n",
    "\n",
    "<img src=\"images/knowledge_based_agent.png\" width=\"75%\"/>\n"
   ]
  },
  {
   "cell_type": "markdown",
   "metadata": {},
   "source": [
    "## Historial sidenote \n",
    "\n",
    "\n",
    "<img src=\"images/aristotle.png\" width=\"25%\"/>\n",
    "\n",
    "\n",
    "\n",
    "\n",
    "* Concept of proof = series of immediately obvious reasoning steps\n",
    "* Steps of proof is obvious based on form rather than content\n",
    "\n",
    "One of the many important contributions of Aristotle. Examples\n",
    "\n",
    "* All x are y\n",
    "* All y are z\n",
    "* Therefore all x are z\n",
    "* X = dogs, Y = mammals, Z = animals\n",
    "* X = Accords, Y = Hondas, Z = Japanese"
   ]
  },
  {
   "cell_type": "markdown",
   "metadata": {},
   "source": [
    "** The WUMPUS world ** \n",
    "\n",
    "<img src=\"images/wumpus_world.png\" width=\"70%\"/>\n"
   ]
  },
  {
   "cell_type": "markdown",
   "metadata": {},
   "source": [
    "Percept = [Stench,Breeze,Glitter,Bump,WumpusDead]\n",
    "\n",
    "\n",
    "Percept = [None, None, None, None, None]\n",
    "\n",
    "<img src=\"images/wumpus1.png\" width=\"50%\"/>\n"
   ]
  },
  {
   "cell_type": "markdown",
   "metadata": {},
   "source": [
    "Percept = [none, breeze, none, none, none]\n",
    "\n",
    "<img src=\"images/wumpus2.png\" width=\"50%\"/>\n",
    "\n",
    "Inference \n",
    "<img src=\"images/wumpus3.png\" width=\"50%\"/>\n"
   ]
  },
  {
   "cell_type": "markdown",
   "metadata": {},
   "source": [
    "<img src=\"images/wumpus4.png\" width=\"50%\"/>\n"
   ]
  },
  {
   "cell_type": "markdown",
   "metadata": {},
   "source": [
    "The agent has “deduced” the location of the pit and the wumpus without falling into a horrible death or being eaten alive by the hungry wumpus. "
   ]
  },
  {
   "cell_type": "markdown",
   "metadata": {},
   "source": [
    "## Logics \n",
    "\n",
    "* Formal languages for encoding information\n",
    "* Legal transformations\n",
    "* Syntax defines the sentences in the language\n",
    "* Semantics define the “meaning” of a sentence i.e define the truth of a sentence in a world\n",
    "* For example\n",
    "    * x + 2 >= y is true in a world where x = 5 and y = 2\n",
    "    * x + 2 >= y is false in a world where x = 2 and y = 10"
   ]
  },
  {
   "cell_type": "markdown",
   "metadata": {},
   "source": [
    "## Entailment\n",
    "\n",
    "* Entailment means that one thing follows from another:\n",
    "* KB |= a\n",
    "* KB entails sentence a iff a is true in all worlds where the KB is true\n",
    "* X + Y = 4 entail X – 4 = Y\n",
    "* Entailment is a relationship between sentences (syntax) that is based on semantics \n",
    "\n",
    "\n",
    "In logics we will use the term of world to mean an assignment of values to variables similar to the variable \n",
    "assignments we used for CSP problems. \n",
    "\n"
   ]
  },
  {
   "cell_type": "markdown",
   "metadata": {},
   "source": [
    "<img src=\"images/entailment.png\" width=\"75%\"/>\n"
   ]
  },
  {
   "cell_type": "markdown",
   "metadata": {},
   "source": [
    "**Logical Inference** through **model checking**. "
   ]
  },
  {
   "cell_type": "markdown",
   "metadata": {},
   "source": [
    "## Inference \n",
    "\n",
    "* KB |=i a sentence a can be derived by procedure **i** (the inference procedure)\n",
    "* Consequences of KB are haystack, a is needle\n",
    "    * Entailment: needle in haystack\n",
    "    * Inference: finding it\n",
    "* Sound: whenever KB |=i a it is also true that KB |= a\n",
    "* Completeness: i is complete if whenever KB |= a it is also true that KB |=i\n",
    "\n",
    "\n"
   ]
  },
  {
   "cell_type": "markdown",
   "metadata": {},
   "source": [
    "## Propositional Logic Syntax and Semantics \n",
    "\n",
    "* Syntax: specifies how sentences/expressions are formed by combining symbols \n",
    "* Semantics: specifies how we interpret these expressions \n",
    "\n",
    "\n",
    "\n",
    "* Propositional symbols $P_1$, $P_2$, WUMPUS-DEAD are sentences \n",
    "* If $S$ is a sentence so is $\\neg S$ (negation) \n",
    "* If $S_1$ and $S_2$ are sentences then $S_1 \\wedge S_2$ is a sentence (conjunction)\n",
    "* If $S_1$ and $S_2$ are sentences then $S_1 \\lor S_2$ is a sentence (disjunction) \n",
    "* If $S_1$ and $S_2$ are sentences then $S_1 \\Rightarrow S_2$ is a sentence (implication) \n",
    "* If $S_1$ and $S_2$ are sentences then $S_1 \\Leftrightarrow S_2$ is a sentence (biconditional)\n",
    "\n",
    "\n",
    "Use brackets to indicate precedence. \n",
    "The truth table below shows the semantics of how true/false values are combined \n",
    "using the logical operators. \n",
    "\n",
    "<img src=\"images/truth_table_propositional.png\" width=\"75%\"/>\n",
    "\n"
   ]
  },
  {
   "cell_type": "markdown",
   "metadata": {},
   "source": [
    "A **model** specifies a True/False value for every propositional symbol (similar to an assignment of values to variables in CSP). A simple recursive procedure can be used to evaluate any sentence as True/False given as input a **model**"
   ]
  },
  {
   "cell_type": "markdown",
   "metadata": {},
   "source": [
    "## Wumpus world sentences \n",
    "\n",
    "\n",
    "* Let $P_{ij}$ be true if there is a pit in $[i,j]$\n",
    "* Let $B_{ij}$ be true if there is breeze in $[i,j]$ \n",
    "\n",
    "\n",
    "How can you express “Pits cause breeze in adjacent squares” ? \n",
    "\n",
    "$B_{11} \\Leftrightarrow (P_{11} \\lor P_{22})$ <br> \n",
    "$B_{21} \\Leftrightarrow (P_{12} \\lor P_{22} \\lor P_{31})$ <br> \n",
    "$\\dots$\n",
    "\n",
    "Notice that a single sentence in English has to be expanded to several propositional logic sentences. \n",
    "In propositional logic we need to state that pits cause breeze in adjacent square specifically for \n",
    "every single pit and square. \n",
    "\n"
   ]
  },
  {
   "cell_type": "code",
   "execution_count": 26,
   "metadata": {},
   "outputs": [],
   "source": [
    "from utils import *\n",
    "from logic import *"
   ]
  },
  {
   "cell_type": "markdown",
   "metadata": {},
   "source": [
    "We define the symbols we use in our clauses.\n",
    "𝑃𝑥,𝑦  is true if there is a pit in [x, y].\n",
    "𝐵𝑥,𝑦  is true if the agent senses breeze in [x, y]."
   ]
  },
  {
   "cell_type": "code",
   "execution_count": 14,
   "metadata": {},
   "outputs": [],
   "source": [
    "P11, P12, P21, P22, P31, B11, B21 = expr('P11, P12, P21, P22, P31, B11, B21')"
   ]
  },
  {
   "cell_type": "markdown",
   "metadata": {},
   "source": [
    "Now we tell sentences based on `section 7.4.3`.<br/>\n",
    "There is no pit in `[1,1]`."
   ]
  },
  {
   "cell_type": "code",
   "execution_count": 15,
   "metadata": {},
   "outputs": [],
   "source": [
    "wumpus_kb.tell(~P11)"
   ]
  },
  {
   "cell_type": "markdown",
   "metadata": {},
   "source": [
    "A square is breezy if and only if there is a pit in a neighboring square. This has to be stated for each square but for now, we include just the relevant squares."
   ]
  },
  {
   "cell_type": "code",
   "execution_count": 17,
   "metadata": {},
   "outputs": [],
   "source": [
    "wumpus_kb.tell(B11 | '<=>' | ((P12 | P21)))\n",
    "wumpus_kb.tell(B21 | '<=>' | ((P11 | P22 | P31)))"
   ]
  },
  {
   "cell_type": "markdown",
   "metadata": {},
   "source": [
    "Now we include the breeze percepts for the first two squares leading up to the situation in `Figure 7.3(b)`"
   ]
  },
  {
   "cell_type": "code",
   "execution_count": 19,
   "metadata": {},
   "outputs": [],
   "source": [
    "wumpus_kb.tell(~B11)\n",
    "wumpus_kb.tell(B21)"
   ]
  },
  {
   "cell_type": "code",
   "execution_count": 27,
   "metadata": {},
   "outputs": [
    {
     "data": {
      "text/plain": [
       "[~P11,\n",
       " (~P12 | B11),\n",
       " (~P21 | B11),\n",
       " (P12 | P21 | ~B11),\n",
       " (~P11 | B21),\n",
       " (~P22 | B21),\n",
       " (~P31 | B21),\n",
       " (P11 | P22 | P31 | ~B21),\n",
       " ~B11,\n",
       " B21,\n",
       " ~P11,\n",
       " (~P12 | B11),\n",
       " (~P21 | B11),\n",
       " (P12 | P21 | ~B11),\n",
       " (~P11 | B21),\n",
       " (~P22 | B21),\n",
       " (~P31 | B21),\n",
       " (P11 | P22 | P31 | ~B21),\n",
       " ~B11,\n",
       " B21,\n",
       " ~B11,\n",
       " B21]"
      ]
     },
     "execution_count": 27,
     "metadata": {},
     "output_type": "execute_result"
    }
   ],
   "source": [
    "wumpus_kb.clauses"
   ]
  },
  {
   "cell_type": "code",
   "execution_count": 21,
   "metadata": {},
   "outputs": [
    {
     "data": {
      "text/plain": [
       "(True, False)"
      ]
     },
     "execution_count": 21,
     "metadata": {},
     "output_type": "execute_result"
    }
   ],
   "source": [
    "wumpus_kb.ask_if_true(~P11), wumpus_kb.ask_if_true(P11)"
   ]
  },
  {
   "cell_type": "markdown",
   "metadata": {},
   "source": [
    "In all models in which the knowledge base is `True`, $P_{1, 1}$ is `False`. It makes sense that `ask_if_true()` returns `True` for $\\alpha = \\neg P_{1, 1}$ and `False` for $\\alpha = P_{1, 1}$. This begs the question, what if $\\alpha$ is `True` in only a portion of all models. Do we return `True` or `False`? This doesn't rule out the possibility of $\\alpha$ being `True` but it is not entailed by the `KB` so we return `False` in such cases. We can see this is the case for $P_{2, 2}$ and $P_{3, 1}$."
   ]
  },
  {
   "cell_type": "code",
   "execution_count": 22,
   "metadata": {},
   "outputs": [
    {
     "data": {
      "text/plain": [
       "(False, False)"
      ]
     },
     "execution_count": 22,
     "metadata": {},
     "output_type": "execute_result"
    }
   ],
   "source": [
    "wumpus_kb.ask_if_true(~P22), wumpus_kb.ask_if_true(P22)"
   ]
  },
  {
   "cell_type": "markdown",
   "metadata": {},
   "source": [
    "## Propositional Theorem Proving\n",
    "\n",
    "\n",
    "We have shown how we can determine entailment by **model checking**: enumerating all possible models and showing that the sentence must hold in all models. \n",
    "\n",
    "Entailment can also be done by **theorem proving** - applying rules of inference directly to the sentenes in our knowledge base to construct a proof of the desired sentence. When the number of models is large, **theorem** proving can be much more efficient. Proofs can ignore \"irrelevant\" propositions. \n",
    "\n",
    "\n",
    "**Logical equivalence** two sentences are logically equivalent if they are true in the same set of models. \n",
    "These equivalances play the same role in logic that arithmetic identities play in ordinary mathematics. \n",
    "\n",
    "An example would be commutivity of $\\lor$ $(\\alpha \\lor \\beta) \\equiv (\\beta \\lor \\alpha)$ or biconditional elimination. \n",
    "\n",
    "A **valid** sentence is true in **all** models.  \n",
    "\n",
    "A sentence is **satisfiable** is it is true in by **some** model. \n",
    "\n",
    "**Deduction theorem** \n",
    "\n",
    "For any sentences $\\alpha$ and $\\beta$, $\\alpha \\vDash \\beta$ if and only if the sentence $(\\alpha \\Rightarrow \\beta)$ is valid \n",
    "\n",
    "**Proof by contradiction (reduction ad absurdum)** \n",
    "\n",
    "$\\alpha \\vDash \\beta$ if and only if the sentence $(\\alpha \\wedge \\neg \\beta)$ is unsatisfiable. \n",
    "\n",
    "\n",
    "\n"
   ]
  },
  {
   "cell_type": "markdown",
   "metadata": {},
   "source": [
    "## Agents based on Propositional Logic \n",
    "\n",
    "\n"
   ]
  },
  {
   "cell_type": "markdown",
   "metadata": {},
   "source": [
    "# First-Order Logic \n",
    "\n",
    "\n",
    "\n",
    "Programming languages (such as C++, Java, or Python) are the largest class of formal languages in common use. Data structures within programs caan be used to represent facts (for example a 4x4 array can be used to represent the contents of the Wumpus world). However, they lack a general mechanism for deriving facts from other facts. \n",
    "In logic is **declarative** so that knowledge is domain-specific but inference is general and domain independent. \n",
    "In programming languages there is no easy way to express partial information/knowledge (pit in [2,2] or [3,1])\n",
    "\n",
    "\n",
    "Propositional logic is very verbose when dealing with multiple objects - there is no way to generalize rules for all objects. For example \"Squares adjacent to pits are breezy\" can only be expressed as multiple propostional sentences for every possible square and pit. \n",
    "\n",
    "\n",
    "\n",
    "\n",
    "\n",
    "\n",
    "\n",
    "\n",
    "<img src=\"images/fol_richard.png\" width=\"75%\"/>\n"
   ]
  },
  {
   "cell_type": "code",
   "execution_count": null,
   "metadata": {},
   "outputs": [],
   "source": []
  }
 ],
 "metadata": {
  "kernelspec": {
   "display_name": "Python 3",
   "language": "python",
   "name": "python3"
  },
  "language_info": {
   "codemirror_mode": {
    "name": "ipython",
    "version": 3
   },
   "file_extension": ".py",
   "mimetype": "text/x-python",
   "name": "python",
   "nbconvert_exporter": "python",
   "pygments_lexer": "ipython3",
   "version": "3.7.1"
  }
 },
 "nbformat": 4,
 "nbformat_minor": 2
}
