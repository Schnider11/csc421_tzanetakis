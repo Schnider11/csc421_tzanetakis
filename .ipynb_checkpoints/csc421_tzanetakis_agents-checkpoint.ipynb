{
 "cells": [
  {
   "cell_type": "markdown",
   "metadata": {
    "slideshow": {
     "slide_type": "slide"
    }
   },
   "source": [
    "# CSC 421 - Agents \n",
    "\n",
    "### Instructor: George Tzanetakis \n"
   ]
  },
  {
   "cell_type": "markdown",
   "metadata": {},
   "source": [
    "## Agents \n",
    "\n",
    "\n",
    "**EMPHASIS**: Agents as a unifying concept of thinking about AI and software \n",
    "\n",
    "\n",
    "During this lecture we will cover the following topics: \n",
    "\n",
    "1. Agents \n",
    "2. Performance, environments, actuators, sensors \n",
    "3. Agent architectures \n",
    "7. Learning \n"
   ]
  },
  {
   "cell_type": "markdown",
   "metadata": {},
   "source": [
    "## WORKPLAN \n",
    "\n",
    "The section number is based on the 4th edition of the AIMA textbook and is the suggested\n",
    "reading for this week. Each list entry provides just the additional sections. For example the Expected reading include the sections listed under Basic as well as the sections listed under Expected. Some additional readings are suggested for Advanced. \n",
    "\n",
    "1. Basic: Sections **2.1**, **2.3**, **2.4** and Summary  \n",
    "2. Expected: **2.2**\n",
    "3. Advanced: Bibligraphical and historical notes \n"
   ]
  },
  {
   "cell_type": "markdown",
   "metadata": {},
   "source": [
    "## Agents and Environments  \n",
    "\n",
    "\n",
    "\n"
   ]
  },
  {
   "cell_type": "markdown",
   "metadata": {},
   "source": [
    "**Agents** perceive their **environment** through **sensors** and act upon that environment through **actuators**. \n",
    "\n",
    "\n",
    "Terminology: \n",
    "\n",
    "1. Percept \n",
    "2. Percept sequence \n",
    "3. Agent function (abstract mathematical distribution, in many cases infinite tabulation) \n",
    "4. Agent program (concrete implementation running on a phyisical system) \n",
    "\n",
    "What makes an agent effective, good, intelligent ? \n",
    "\n",
    "\n",
    "Any area of engineering can be viewed through the lenses of agents. What makes AI unique is the significant computational resources that can be employed by the agent and the non-trivial decision making that the task \n",
    "environment requires. "
   ]
  },
  {
   "cell_type": "markdown",
   "metadata": {},
   "source": [
    "Let's consider some examples - what are the possible percepts, environments, sensors and actuators for these \n",
    "agents: \n",
    "\n",
    "1.  Human \n",
    "2.  Robot \n",
    "3.  Vacuum cleaner world \n",
    "4.  Single chess piece valid chessboard moves \n",
    "5.  Self-driving car \n",
    "6.  Ant \n",
    "7.  NPC in game \n",
    "8.  Chess playing program \n",
    "\n"
   ]
  },
  {
   "cell_type": "markdown",
   "metadata": {},
   "source": [
    "## TASK ENVIRONMENTS** \n",
    "\n",
    "Specifying the task environment (essentially the problem to which rational agents are the solutions): \n",
    "\n",
    "1. Performance \n",
    "2. Environment \n",
    "3. Actuators \n",
    "4. Sensors \n",
    "\n",
    "\n",
    "Properties of task environmets (for each one think of examples or consider the examples mentioned above): \n",
    "\n",
    "1. Fully observable vs partially observable \n",
    "2. Single-agent vs multiagent \n",
    "    1. Competitive multiagent (chess) vs co-operative multiagent (self-driving cars avoiding collisions)\n",
    "3. Deterministic vs nondeterministic \n",
    "\n",
    "\n",
    "**Agent = architecture + program** "
   ]
  },
  {
   "cell_type": "markdown",
   "metadata": {},
   "source": [
    "## Structure of Agents \n",
    "\n",
    "1. Reflex agents \n",
    "2. Model-based reflex agents \n",
    "3. Goal-based agents \n",
    "4. Utility-based agents \n",
    "   Goals alone are not enough. Utility is an internal representation of the performance measure. \n",
    "\n",
    "Example: \n",
    "\n",
    "NPC in a graph-based text adventure \n",
    "\n",
    "\n",
    "\n",
    "IMPORTANT: CLEAR SEPARATION OF AGENT AND ENVIRONMENT WHEN DOING SIMULATIONS \n",
    "\n",
    "\n",
    "### LEARNING AGENTS \n",
    "\n",
    "All types of agent architectures can benefit from learning. \n",
    "\n",
    "\n",
    "\n",
    "## World Representations \n",
    "\n",
    "Atomic representation, factored representation, structured representation, distributed representation \n",
    "\n",
    "\n",
    "\n",
    "\n",
    "\n"
   ]
  },
  {
   "cell_type": "code",
   "execution_count": null,
   "metadata": {},
   "outputs": [],
   "source": []
  }
 ],
 "metadata": {
  "kernelspec": {
   "display_name": "Python 3",
   "language": "python",
   "name": "python3"
  },
  "language_info": {
   "codemirror_mode": {
    "name": "ipython",
    "version": 3
   },
   "file_extension": ".py",
   "mimetype": "text/x-python",
   "name": "python",
   "nbconvert_exporter": "python",
   "pygments_lexer": "ipython3",
   "version": "3.7.1"
  }
 },
 "nbformat": 4,
 "nbformat_minor": 2
}
