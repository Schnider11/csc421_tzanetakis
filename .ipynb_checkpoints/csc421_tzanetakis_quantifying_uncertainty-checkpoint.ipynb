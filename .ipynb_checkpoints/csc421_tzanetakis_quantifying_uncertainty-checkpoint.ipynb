{
 "cells": [
  {
   "cell_type": "markdown",
   "metadata": {},
   "source": [
    "# Discrete Random Variables and Sampling \n",
    "\n",
    "### George Tzanetakis, University of Victoria \n",
    "\n",
    "In this notebook we will explore discrete random variables and sampling. After defining a helper class and associated functions we will be able to create both symbolic and numeric random variables and generate samples from them. \n"
   ]
  },
  {
   "cell_type": "markdown",
   "metadata": {
    "collapsed": true
   },
   "source": [
    "Define a helper random variable class based on the scipy discrete random variable functionality providing both numeric and symbolic RVs "
   ]
  },
  {
   "cell_type": "code",
   "execution_count": 3,
   "metadata": {
    "collapsed": true
   },
   "outputs": [],
   "source": [
    "%matplotlib inline \n",
    "import matplotlib.pyplot as plt\n",
    "from scipy import stats\n",
    "import numpy as np "
   ]
  },
  {
   "cell_type": "code",
   "execution_count": 4,
   "metadata": {
    "collapsed": true
   },
   "outputs": [],
   "source": [
    "class Random_Variable: \n",
    "    \n",
    "    def __init__(self, name, values, probability_distribution): \n",
    "        self.name = name \n",
    "        self.values = values \n",
    "        self.probability_distribution = probability_distribution \n",
    "        if all(type(item) is np.int64 for item in values): \n",
    "            self.type = 'numeric'\n",
    "            self.rv = stats.rv_discrete(name = name, values = (values, probability_distribution))\n",
    "        elif all(type(item) is str for item in values): \n",
    "            self.type = 'symbolic'\n",
    "            self.rv = stats.rv_discrete(name = name, values = (np.arange(len(values)), probability_distribution))\n",
    "            self.symbolic_values = values \n",
    "        else: \n",
    "            self.type = 'undefined'\n",
    "            \n",
    "    def sample(self,size): \n",
    "        if (self.type =='numeric'): \n",
    "            return self.rv.rvs(size=size)\n",
    "        elif (self.type == 'symbolic'): \n",
    "            numeric_samples = self.rv.rvs(size=size)\n",
    "            mapped_samples = [values[x] for x in numeric_samples]\n",
    "            return mapped_samples \n",
    "            \n",
    "        "
   ]
  },
  {
   "cell_type": "markdown",
   "metadata": {},
   "source": [
    "Let's first create some random samples of symbolic random variables corresponding to a coin and a dice "
   ]
  },
  {
   "cell_type": "code",
   "execution_count": 68,
   "metadata": {},
   "outputs": [
    {
     "name": "stdout",
     "output_type": "stream",
     "text": [
      "Allison\n",
      "['T', 'H', 'T', 'H', 'T', 'H', 'H', 'H', 'H', 'T', 'T', 'T', 'T', 'T', 'T', 'H', 'T', 'T', 'H', 'H', 'H', 'T', 'T', 'T', 'T', 'H', 'T', 'T', 'H', 'T', 'H', 'T', 'T', 'T', 'H', 'H', 'H', 'T', 'T', 'T', 'H', 'T', 'H', 'H', 'H', 'H', 'H', 'T', 'H', 'H']\n",
      "50\n"
     ]
    }
   ],
   "source": [
    "values = ['H', 'T']\n",
    "probabilities = [0.5, 0.5]\n",
    "coin = Random_Variable('Allison', values, probabilities)\n",
    "print(coin.name)\n",
    "samples = coin.sample(50)\n",
    "print(samples)\n",
    "\n",
    "\n",
    "def length(samples): \n",
    "    length=0\n",
    "    for x in samples: \n",
    "        length = length+1 \n",
    "    return length\n",
    "    \n",
    "print(length(samples))\n"
   ]
  },
  {
   "cell_type": "code",
   "execution_count": 14,
   "metadata": {},
   "outputs": [
    {
     "name": "stdout",
     "output_type": "stream",
     "text": [
      "['2', '6', '3', '6', '1', '5', '2', '1', '5', '4', '4', '5', '2', '2', '6', '5', '4', '1', '3', '1', '5', '5', '6', '6', '3', '3', '1', '4', '4', '4']\n"
     ]
    }
   ],
   "source": [
    "values = ['1', '2', '3', '4', '5', '6']\n",
    "probabilities = [1/6.] * 6\n",
    "probabilities = [1/6., 1/6., 1/6., 1/6., 1/6., 1/6.]\n",
    "dice = Random_Variable('dice', values, probabilities)\n",
    "samples = dice.sample(30)\n",
    "print(samples);\n"
   ]
  },
  {
   "cell_type": "markdown",
   "metadata": {},
   "source": [
    "Now let's look at a numeric random variable corresponding to a dice so that we can more easily make plots and histograms"
   ]
  },
  {
   "cell_type": "code",
   "execution_count": 16,
   "metadata": {},
   "outputs": [
    {
     "name": "stdout",
     "output_type": "stream",
     "text": [
      "[1 2 3 4 5 6]\n"
     ]
    }
   ],
   "source": [
    "values = np.arange(1,7)\n",
    "probabilities = [1/6.] * 6\n",
    "print(values)"
   ]
  },
  {
   "cell_type": "code",
   "execution_count": 39,
   "metadata": {},
   "outputs": [
    {
     "data": {
      "text/plain": [
       "<Container object of 3 artists>"
      ]
     },
     "execution_count": 39,
     "metadata": {},
     "output_type": "execute_result"
    },
    {
     "data": {
      "image/png": "[encoded data removed]",
      "text/plain": [
       "<matplotlib.figure.Figure at 0x10ce9f908>"
      ]
     },
     "metadata": {},
     "output_type": "display_data"
    }
   ],
   "source": [
    "dice = Random_Variable('dice', values, probabilities)\n",
    "samples = dice.sample(10)\n",
    "plt.stem(samples, markerfmt= ' ')"
   ]
  },
  {
   "cell_type": "markdown",
   "metadata": {},
   "source": [
    "Let's now look at a histogram of these generated samples. Notice that even with 500 samples the bars are not equal length so the calculated frequencies are only approximating the probabilities used to generate them "
   ]
  },
  {
   "cell_type": "code",
   "execution_count": 40,
   "metadata": {},
   "outputs": [
    {
     "data": {
      "image/png": "[encoded data removed]",
      "text/plain": [
       "<matplotlib.figure.Figure at 0x10cc78e80>"
      ]
     },
     "metadata": {},
     "output_type": "display_data"
    }
   ],
   "source": [
    "plt.figure()\n",
    "plt.hist(samples,bins=[1,2,3,4,5,6,7],normed=1, rwidth=0.5,align='left');"
   ]
  },
  {
   "cell_type": "markdown",
   "metadata": {},
   "source": [
    "Let's plot the cumulative histogram of the samples "
   ]
  },
  {
   "cell_type": "code",
   "execution_count": 41,
   "metadata": {},
   "outputs": [
    {
     "data": {
      "image/png": "[encoded data removed]",
      "text/plain": [
       "<matplotlib.figure.Figure at 0x10d229400>"
      ]
     },
     "metadata": {},
     "output_type": "display_data"
    }
   ],
   "source": [
    "plt.hist(samples,bins=[1,2,3,4,5,6,7],normed=1, rwidth=0.5,align='left', cumulative=True);"
   ]
  },
  {
   "cell_type": "markdown",
   "metadata": {},
   "source": [
    "Let's now estimate the frequency of the event *roll even number* in different ways. \n",
    "First let's count the number of even numbers in the generated samples. Then let's \n",
    "take the sum of the counts of the individual estimated probabilities. \n"
   ]
  },
  {
   "cell_type": "code",
   "execution_count": 52,
   "metadata": {},
   "outputs": [],
   "source": [
    "# we can also write the predicates directly using lambda notation \n",
    "samples = dice.sample(500)\n",
    "est_even = len([x for x in samples if x%2==0]) / len(samples)"
   ]
  },
  {
   "cell_type": "code",
   "execution_count": 62,
   "metadata": {},
   "outputs": [
    {
     "name": "stdout",
     "output_type": "stream",
     "text": [
      "0.502\n",
      "Estimates of 2,4,6 =  (0.18, 0.162, 0.16)\n",
      "Direct estimate =  0.502\n",
      "Sum of estimates =  0.502\n",
      "Theoretical value =  0.5\n",
      "0.18\n"
     ]
    }
   ],
   "source": [
    "est_2 = len([x for x in samples if x==2]) / len(samples)\n",
    "est_4 = len([x for x in samples if x==4]) / len(samples)\n",
    "est_6 = len([x for x in samples if x==6]) / len(samples)\n",
    "print(est_even)\n",
    "# Let's print some estimates \n",
    "print('Estimates of 2,4,6 = ', (est_2, est_4, est_6))\n",
    "print('Direct estimate = ', est_even) \n",
    "print('Sum of estimates = ', est_2 + est_4 + est_6)\n",
    "print('Theoretical value = ', 0.5)\n",
    "\n",
    "est_2 = 0 \n",
    "for x in samples: \n",
    "    if x == 2: est_2 = est_2 + 1 \n",
    "print(est_2/len(samples))\n"
   ]
  },
  {
   "cell_type": "markdown",
   "metadata": {
    "collapsed": true
   },
   "source": [
    "Notice that we can always estimate the probability of an event by simply counting how many times it occurs in the samples of an experiment. However if we have multiple events we are interested in then it can be easier to calculate the probabilities of the values of invdividual random variables and then use the rules of probability to estimate the probabilities of more complex events. \n"
   ]
  },
  {
   "cell_type": "code",
   "execution_count": 56,
   "metadata": {
    "collapsed": true
   },
   "outputs": [],
   "source": [
    "values = np.arange(1,7)\n",
    "probabilities_yellow = [0., 4.0/6.0, 0., 0., 0., 2./6.0]\n",
    "yellow_dice = Random_Variable('yellow_dice', values, probabilities)\n",
    "probabilities_green = [0.5, 0., 0., 0., 0.5, 0.]\n",
    "green_dice = Random_Variable('green_dice', values, probabilities)"
   ]
  },
  {
   "cell_type": "code",
   "execution_count": 60,
   "metadata": {},
   "outputs": [
    {
     "name": "stdout",
     "output_type": "stream",
     "text": [
      "[2 2 2 2 6 6 6 6 6 2]\n",
      "[6 2 2 6 2 2 2 6 2 2]\n"
     ]
    }
   ],
   "source": [
    "print(yellow_dice.sample(10))\n",
    "print(green_dice.sample(10))"
   ]
  },
  {
   "cell_type": "code",
   "execution_count": null,
   "metadata": {
    "collapsed": true
   },
   "outputs": [],
   "source": []
  }
 ],
 "metadata": {
  "kernelspec": {
   "display_name": "Python 3",
   "language": "python",
   "name": "python3"
  },
  "language_info": {
   "codemirror_mode": {
    "name": "ipython",
    "version": 3
   },
   "file_extension": ".py",
   "mimetype": "text/x-python",
   "name": "python",
   "nbconvert_exporter": "python",
   "pygments_lexer": "ipython3",
   "version": "3.7.1"
  }
 },
 "nbformat": 4,
 "nbformat_minor": 2
}
