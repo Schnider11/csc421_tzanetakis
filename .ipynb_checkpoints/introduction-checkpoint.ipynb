{
 "cells": [
  {
   "cell_type": "markdown",
   "metadata": {
    "slideshow": {
     "slide_type": "slide"
    }
   },
   "source": [
    "# CSC 421 - Introduction and Overview \n",
    "\n"
   ]
  },
  {
   "cell_type": "markdown",
   "metadata": {},
   "source": [
    "## Introduction \n",
    "\n",
    "The topic of this course is artificial intelligence (AI), probably the most hyped topic in Computer Science today. Whether this is justified or not is a question we will repeatedly return to throughout the course. \n",
    "\n",
    "**EMPHASIS**: Agents as a unifying concept of thinking about AI and software \n",
    "\n",
    "\n",
    "During this lecture we will cover the following topics: \n",
    "\n",
    "1. Overview of the course \n",
    "2. Discussion of academic integrity and assessment \n",
    "3. Importance of textbook \n",
    "4. What is AI ? History of AI \n",
    "   1. AI before computers \n",
    "   2. AI after computers\n",
    "5. Intelligent agents \n",
    "6. Degree of Difficulty \n",
    "7. Probabilities \n"
   ]
  },
  {
   "cell_type": "markdown",
   "metadata": {},
   "source": [
    "## Overview of the course \n",
    "\n",
    "**Artificial Intelligence: A Modern Approach** has been by far the most well known and widely used textbook on AI across the world for the last 20 years. It is taught in practically every computer science department in the world. \n",
    "\n",
    "There will be four assignemnts each worth 10% of the total grade. \n"
   ]
  },
  {
   "cell_type": "code",
   "execution_count": null,
   "metadata": {},
   "outputs": [],
   "source": []
  }
 ],
 "metadata": {
  "kernelspec": {
   "display_name": "Python 3",
   "language": "python",
   "name": "python3"
  },
  "language_info": {
   "codemirror_mode": {
    "name": "ipython",
    "version": 3
   },
   "file_extension": ".py",
   "mimetype": "text/x-python",
   "name": "python",
   "nbconvert_exporter": "python",
   "pygments_lexer": "ipython3",
   "version": "3.7.1"
  }
 },
 "nbformat": 4,
 "nbformat_minor": 2
}
