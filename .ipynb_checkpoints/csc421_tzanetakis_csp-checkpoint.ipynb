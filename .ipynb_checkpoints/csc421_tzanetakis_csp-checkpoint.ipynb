{
 "cells": [
  {
   "cell_type": "markdown",
   "metadata": {},
   "source": [
    "# CSC 421 - Constraint Satisfaction Problems\n",
    "\n",
    "### Instructor: George Tzanetakis \n"
   ]
  },
  {
   "cell_type": "markdown",
   "metadata": {},
   "source": [
    "\n",
    "Problems can be solved by searching the state space. The state space is a representation of a problem where the nodes are states and the edges between them are actions. Domain-specific heuristics can be used to estimate the cost of reaching the goakl from a given state to make searching for solutions more efficient. The state representation is treated as a black box. \n",
    "\n",
    "**Constraint Satisfaction Problems** are a specific type of problem in which the state representation is **factored**. The state in such problems can be represented as a set of **variables** each of which has a **value** from a particular **domain**. A problem is solved when each varaible has a value that satisfies \n",
    "all the constrains that involve that variable. "
   ]
  },
  {
   "cell_type": "markdown",
   "metadata": {},
   "source": [
    "\n",
    "Defining a CSP problem: \n",
    "\n",
    "* X is a set of variables {X1, X2, .. XN} \n",
    "* D is a set of domains {D1, ...., Dn} (one for each variable) \n",
    "* C is a set of constraints that specify allowable combinations of values \n",
    "\n",
    "Any contraint can be represented as an explicit set of tuples of values that satisfy the constraint or as a membership function (typically syntactic sugar). \n",
    "\n",
    "For example X1 and X2 with domain {1,2,3}. \n",
    "\n",
    "X1>X2 can be written as {(3,1),(3,2),(2,1)}\n",
    "\n",
    "\n"
   ]
  },
  {
   "cell_type": "markdown",
   "metadata": {},
   "source": [
    "A **consistent** assignment is an assignment of values to variables that does not violate any constraints. \n",
    "A **complete** assignment is an assignment of values to all variables. A **complete** and **consistent** assignment is called a **solution** to the CSP problem. A **partial** assignment is one that leaves some variables unassigned, and a **partial solution** is a partial assignment that is consistent. \n",
    "\n",
    "Solving a **CSP** problem is an NP-complete problem in general. "
   ]
  },
  {
   "cell_type": "markdown",
   "metadata": {},
   "source": [
    "## Classic example - map coloring "
   ]
  },
  {
   "cell_type": "markdown",
   "metadata": {},
   "source": [
    "<img src=\"images/csp_australia.png\" width=\"60%\"/>\n",
    "\n"
   ]
  },
  {
   "cell_type": "markdown",
   "metadata": {},
   "source": [
    "SA != WA \n",
    "\n",
    "Full enumeration \n",
    "\n",
    "{(SA,WA): (red, green), (red, blue), (green, red), (green,blue), (blue, red), (blue, green)}\n",
    "\n",
    "Many possible solutions. For example: \n",
    "\n",
    "{WA=red, NT=green, Q=red, NSW=green, V=red, SA=blue, T=red} "
   ]
  },
  {
   "cell_type": "markdown",
   "metadata": {},
   "source": [
    "In CSP we can leverage information during search: \n",
    "\n",
    "* Partial assignment violates a constraint we can immediately discard further refinements of the partial assignment \n",
    "* We can see which variable violate a constraint and focus attention on the variables that matter \n"
   ]
  },
  {
   "cell_type": "markdown",
   "metadata": {},
   "source": [
    "### Historical Sidenote 1 \n",
    "\n",
    "The 4-color conjecture states that any planar graph can be colored with four or fewer colors. \n",
    "A planar graph is a graph that can be drawn on a place without the edges crossing each other. \n",
    "\n",
    "\n",
    "Probably first made by Francis Guthrie, student of De Morgan in 1852. Despite efforts first proof in 1977 by Appel and Haken (with computer aid). This is a historic proof because it was the first widely accepted proof that was made by a computer system. \n",
    "\n",
    "\n",
    "<img src=\"images/four_color.png\" width=\"30%\"/>\n"
   ]
  },
  {
   "cell_type": "markdown",
   "metadata": {},
   "source": [
    "### Historical Sidenote 2 \n",
    "\n",
    "CSP algorithms were used in SketchPad by Ivan Sutherland in 1963. Forerunner of pointer/display interaction, CAD, etc. \n",
    "\n",
    "\n",
    "<img src=\"images/sketchpad.png\" width=\"50%\"/>\n"
   ]
  },
  {
   "cell_type": "markdown",
   "metadata": {},
   "source": [
    "### Generating rhythmic exercises at different levels of difficulty \n",
    "\n",
    "Joint work with Graham Percival, Torsten Anders, and George Tzanetakis\n",
    "\n",
    "\n",
    "<img src=\"images/rhythmic_exercises_csp1.png\" width=\"75%\"/>\n",
    "\n",
    "<img src=\"images/rhythmic_exercises_csp2.png\" width=\"75%\"/>\n",
    "\n",
    "\n"
   ]
  },
  {
   "cell_type": "code",
   "execution_count": 5,
   "metadata": {},
   "outputs": [],
   "source": [
    "# Recursive backtracking - start with an initial assignment (usually empty) and then select a variable and \n",
    "# assign it a value. If the current assignment is consistent with the constraints call recursively \n",
    "\n",
    "\n",
    "def recursive_backtracking(assignment, csp):\n",
    "    if isComplete(assignment):\n",
    "        return assignment\n",
    "    var = select_unassigned_variable(csp[\"VARIABLES\"], assignment)\n",
    "    for value in csp[\"DOMAINS\"]:\n",
    "        assignment[var] = value\n",
    "        if is_consistent(assignment, csp[\"CONSTRAINTS\"]):\n",
    "            result = recursive_backtracking(assignment, csp)\n",
    "            if result != \"FAILURE\":\n",
    "                return result\n",
    "        assignment[var] = None\n",
    "    return \"FAILURE\""
   ]
  },
  {
   "cell_type": "markdown",
   "metadata": {},
   "source": [
    "\n",
    "<img src=\"images/recursive_backtracking_csp_australia.png\" width=\"75%\"/>\n"
   ]
  },
  {
   "cell_type": "markdown",
   "metadata": {},
   "source": [
    "### Heuristics to use during backtracking search \n",
    "\n",
    "1. Minimum remaining values:  i.e choose the variable with the fewest legal values \n",
    "2. Degree heuristic: Tie-breaker among MRV variables - choose the one with the most constraints with remaining variables \n",
    "3. Least constraining variable: rules out the fewest choices for the neighboring variables in the constraint graph\n",
    "\n",
    "\n",
    "<img src=\"images/least_constraining_variable_csp.png\" width=\"75%\"/>\n",
    "\n",
    "\n",
    "4. Forward Checking: keep track of remaining legal values for unassigned variables \n",
    "\n",
    "<img src=\"images/forward_checking_csp.png\" width=\"75%\"/>\n",
    "\n",
    "\n",
    " \n"
   ]
  },
  {
   "cell_type": "markdown",
   "metadata": {},
   "source": [
    "## Summary \n",
    "\n",
    "\n",
    "1. CSPs are a special kind of problem \n",
    "2. States defined by values of a fixed set of variables\n",
    "3. Goal test defined by constraints of variable values\n",
    "4. Back-tracking = depth-first search with one variable assigned per node\n",
    "5. Variable ordering and value selection heuristics can help significantly\n",
    "6. Forward checking prevents assignments that guarantee later failure \n",
    "7. Specific-constraint type and structure (for example trees) can lead to more efficient solvers "
   ]
  },
  {
   "cell_type": "code",
   "execution_count": null,
   "metadata": {},
   "outputs": [],
   "source": []
  },
  {
   "cell_type": "code",
   "execution_count": null,
   "metadata": {},
   "outputs": [],
   "source": []
  }
 ],
 "metadata": {
  "kernelspec": {
   "display_name": "Python 3",
   "language": "python",
   "name": "python3"
  },
  "language_info": {
   "codemirror_mode": {
    "name": "ipython",
    "version": 3
   },
   "file_extension": ".py",
   "mimetype": "text/x-python",
   "name": "python",
   "nbconvert_exporter": "python",
   "pygments_lexer": "ipython3",
   "version": "3.7.1"
  }
 },
 "nbformat": 4,
 "nbformat_minor": 2
}
